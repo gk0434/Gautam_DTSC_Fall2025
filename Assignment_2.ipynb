{
  "nbformat": 4,
  "nbformat_minor": 0,
  "metadata": {
    "colab": {
      "provenance": [],
      "authorship_tag": "ABX9TyOMiQI+6BJLe8npmNMxpBGm",
      "include_colab_link": true
    },
    "kernelspec": {
      "name": "python3",
      "display_name": "Python 3"
    },
    "language_info": {
      "name": "python"
    }
  },
  "cells": [
    {
      "cell_type": "markdown",
      "metadata": {
        "id": "view-in-github",
        "colab_type": "text"
      },
      "source": [
        "<a href=\"https://colab.research.google.com/github/gk0434/Gautam_DTSC_Fall2025/blob/main/Assignment_2.ipynb\" target=\"_parent\"><img src=\"https://colab.research.google.com/assets/colab-badge.svg\" alt=\"Open In Colab\"/></a>"
      ]
    },
    {
      "cell_type": "code",
      "execution_count": 1,
      "metadata": {
        "colab": {
          "base_uri": "https://localhost:8080/"
        },
        "id": "aihJ87tkFrC3",
        "outputId": "b0fd5804-b776-4d57-d509-63baee5230f8"
      },
      "outputs": [
        {
          "output_type": "stream",
          "name": "stdout",
          "text": [
            "Entire list: ['kiwi', 'strawberry', 'pineapple']\n",
            "First fruit: kiwi\n",
            "Second fruit: strawberry\n",
            "Third fruit: pineapple\n"
          ]
        }
      ],
      "source": [
        "#1)\n",
        "fruits = [\"kiwi\", \"strawberry\", \"pineapple\"]\n",
        "print(\"Entire list:\", fruits)\n",
        "print(\"First fruit:\", fruits[0])\n",
        "print(\"Second fruit:\", fruits[1])\n",
        "print(\"Third fruit:\", fruits[2])"
      ]
    },
    {
      "cell_type": "code",
      "source": [
        "#2)\n",
        "names = [\"Ashley\", \"Gautam\", \"Sam\", \"Ruth\"]\n",
        "names[0] = \"Marty\"\n",
        "print(\"New list of names:\",names)\n",
        "\n",
        "\n"
      ],
      "metadata": {
        "colab": {
          "base_uri": "https://localhost:8080/"
        },
        "id": "nFcsjFdqGSLN",
        "outputId": "9d4e97ce-bbfb-4c86-ef55-a38bd9fac7af"
      },
      "execution_count": 2,
      "outputs": [
        {
          "output_type": "stream",
          "name": "stdout",
          "text": [
            "New list of names: ['Marty', 'Gautam', 'Sam', 'Ruth']\n"
          ]
        }
      ]
    },
    {
      "cell_type": "code",
      "source": [
        "#3)\n",
        "vehicles = [\"car\",\"bike\",\"bus\",\"scooter\",\"train\",]\n",
        "vehicles.append(\"plane\")\n",
        "print(\"New list of vehicles:\",vehicles)\n"
      ],
      "metadata": {
        "colab": {
          "base_uri": "https://localhost:8080/"
        },
        "id": "QGMUFqN371o9",
        "outputId": "3a49611e-fa22-4e00-93f8-313cd34d2fa0"
      },
      "execution_count": 3,
      "outputs": [
        {
          "output_type": "stream",
          "name": "stdout",
          "text": [
            "New list of vehicles: ['car', 'bike', 'bus', 'scooter', 'train', 'plane']\n"
          ]
        }
      ]
    },
    {
      "cell_type": "code",
      "source": [
        "#4)\n",
        "foods = [\"pasta\", \"yogurt\", \"milkshake\", \"icecream\", \"sushi\", \"cake\"]\n",
        "foods.remove(\"pasta\")\n",
        "print(\"Foods after removal:\", foods)\n"
      ],
      "metadata": {
        "colab": {
          "base_uri": "https://localhost:8080/"
        },
        "id": "5WBtqhqPLHkq",
        "outputId": "fb8348ca-420b-4ed6-ba45-a67b761320d9"
      },
      "execution_count": 6,
      "outputs": [
        {
          "output_type": "stream",
          "name": "stdout",
          "text": [
            "Foods after removal: ['yogurt', 'milkshake', 'icecream', 'sushi', 'cake']\n"
          ]
        }
      ]
    },
    {
      "cell_type": "code",
      "source": [
        "#5)\n",
        "cities = [\"Los Angeles\", \"Dallas\", \"Beijing\", \"Madrid\"]\n",
        "cities.sort()\n",
        "print(\"Cities in alphabetical order:\", cities)\n",
        "cities.reverse()\n",
        "print(\"Cities in reverse order:\", cities)\n"
      ],
      "metadata": {
        "colab": {
          "base_uri": "https://localhost:8080/"
        },
        "id": "QOLeRopGLoNA",
        "outputId": "48a4a0be-41f1-4701-8ac7-16be212c01fd"
      },
      "execution_count": 7,
      "outputs": [
        {
          "output_type": "stream",
          "name": "stdout",
          "text": [
            "Cities in alphabetical order: ['Beijing', 'Dallas', 'Los Angeles', 'Madrid']\n",
            "Cities in reverse order: ['Madrid', 'Los Angeles', 'Dallas', 'Beijing']\n"
          ]
        }
      ]
    },
    {
      "cell_type": "code",
      "source": [
        "#6)\n",
        "animals = [\"dog\",\"cat\",\"cow\"]\n",
        "for animal in animals:\n",
        "  print(\"animal:\",animal)"
      ],
      "metadata": {
        "colab": {
          "base_uri": "https://localhost:8080/"
        },
        "id": "xYZJQZ6QL858",
        "outputId": "9e2aca03-0b2a-4363-989a-3bfe3d6d710d"
      },
      "execution_count": 22,
      "outputs": [
        {
          "output_type": "stream",
          "name": "stdout",
          "text": [
            "animal: dog\n",
            "animal: cat\n",
            "animal: cow\n"
          ]
        }
      ]
    },
    {
      "cell_type": "code",
      "source": [
        "#7)\n",
        "numbers = [1,2,3,4,5]\n",
        "for num in numbers:\n",
        "  print(num,\"multiplied by 2 is\", num * 2)\n",
        "\n"
      ],
      "metadata": {
        "colab": {
          "base_uri": "https://localhost:8080/"
        },
        "id": "WrqwaWCeMct2",
        "outputId": "fc918185-0fec-4209-aaaa-3a0268e86b7e"
      },
      "execution_count": 28,
      "outputs": [
        {
          "output_type": "stream",
          "name": "stdout",
          "text": [
            "1 multiplied by 2 is 2\n",
            "2 multiplied by 2 is 4\n",
            "3 multiplied by 2 is 6\n",
            "4 multiplied by 2 is 8\n",
            "5 multiplied by 2 is 10\n"
          ]
        }
      ]
    },
    {
      "cell_type": "code",
      "source": [
        "#8)\n",
        "friends = [\"Ashley\", \"Gautam\", \"Sam\", \"Ruth\",\"Wendy\",\"Jonah\"]\n",
        "print(\"First three friends:\", friends[:3])\n",
        "print(\"Last three friends:\", friends[-3:])\n",
        "\n"
      ],
      "metadata": {
        "colab": {
          "base_uri": "https://localhost:8080/"
        },
        "id": "zX0_5gKoNuJB",
        "outputId": "04a9b9e6-7266-40eb-88f0-7c03e1db06c9"
      },
      "execution_count": 32,
      "outputs": [
        {
          "output_type": "stream",
          "name": "stdout",
          "text": [
            "First three friends: ['Ashley', 'Gautam', 'Sam']\n",
            "Last three friends: ['Ruth', 'Wendy', 'Jonah']\n"
          ]
        }
      ]
    },
    {
      "cell_type": "code",
      "source": [
        "#9)\n",
        "num_list = list(range(1,11))\n",
        "print(\"Numbers from 1 to 10:\", num_list)\n"
      ],
      "metadata": {
        "colab": {
          "base_uri": "https://localhost:8080/"
        },
        "id": "dbVPtLQ9OgyR",
        "outputId": "b0fbdb29-8ef2-4aed-a66d-b50e670d4524"
      },
      "execution_count": 33,
      "outputs": [
        {
          "output_type": "stream",
          "name": "stdout",
          "text": [
            "Numbers from 1 to 10: [1, 2, 3, 4, 5, 6, 7, 8, 9, 10]\n"
          ]
        }
      ]
    },
    {
      "cell_type": "code",
      "source": [
        "#10)\n",
        "squares = [x**2 for x in range(1,6)]\n",
        "print(\"Squares of numbers 1 to 5:\",squares)\n"
      ],
      "metadata": {
        "colab": {
          "base_uri": "https://localhost:8080/"
        },
        "id": "voRwrVg5O6dh",
        "outputId": "d3af7cc6-d834-49b0-f2c4-95d18711a332"
      },
      "execution_count": 39,
      "outputs": [
        {
          "output_type": "stream",
          "name": "stdout",
          "text": [
            "Squares of numbers 1 to 5: [1, 4, 9, 16, 25]\n"
          ]
        }
      ]
    }
  ]
}