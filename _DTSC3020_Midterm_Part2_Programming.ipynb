{
  "cells": [
    {
      "cell_type": "markdown",
      "metadata": {
        "id": "view-in-github",
        "colab_type": "text"
      },
      "source": [
        "<a href=\"https://colab.research.google.com/github/gk0434/Gautam_DTSC_Fall2025/blob/main/_DTSC3020_Midterm_Part2_Programming.ipynb\" target=\"_parent\"><img src=\"https://colab.research.google.com/assets/colab-badge.svg\" alt=\"Open In Colab\"/></a>"
      ]
    },
    {
      "cell_type": "markdown",
      "id": "8e58db4f",
      "metadata": {
        "id": "8e58db4f"
      },
      "source": [
        "# DTSC 3020 — Midterm Exam (Part 2: Programming)\n",
        "University of North Texas\n",
        "\n",
        "**Course:** Introduction to Computation with Python (DTSC 3020)  \n",
        "**Exam:** Midterm — Programming (Ch. 1–8 concepts)\n",
        "\n"
      ]
    },
    {
      "cell_type": "markdown",
      "id": "ed86aaec",
      "metadata": {
        "id": "ed86aaec"
      },
      "source": [
        "---\n",
        "### Instructions\n",
        "- Write clean, readable Python code for each question.\n",
        "- Use only standard Python; no external libraries.\n",
        "- Where required, write a function and return the result.\n",
        "- After each solution cell, there is a **Part 2 — Test Scenario**. Follow the prompt to run your code.\n",
        "\n",
        "---"
      ]
    },
    {
      "cell_type": "markdown",
      "id": "227c4435",
      "metadata": {
        "id": "227c4435"
      },
      "source": [
        "## Question 1 — Create Member ID\n",
        "Write a Python function `create_member_id(full_name)` that creates a Library Member ID from a person’s full name.\n",
        "\n",
        "**Rules**\n",
        "- Normalize the name: remove extra spaces, convert to lowercase, and split by spaces.\n",
        "- Use the last word as the last name (e.g., `\"John Ronald Reuel Tolkien\"` → last name `tolkien`).\n",
        "- Use the first letters of all earlier words as initials (e.g., `jrr` for the example above).\n",
        "- Construct the member ID in this exact format: `lastname_initials` (underscore between them; no spaces).\n",
        "\n",
        "**Examples**\n",
        "- `\"Sara Amini\"` → `amini_sa`\n",
        "- `\"Mary Jane Watson\"` → `watson_mj`\n",
        "- `\"LINA\"` (single word) → use the word for both parts: `lina_l`\n",
        "\n",
        "Part 2 — Test Scenario (run using your function)\n",
        "names = [\"Sara Amini\", \"Ali\", \"Mary Jane\", \"John Smith\", \"LINA\", \"madonna\", \"sara amini\"]\n",
        "\n",
        "\n",
        "\n"
      ]
    },
    {
      "cell_type": "code",
      "metadata": {
        "id": "a059f385"
      },
      "source": [
        "# Write your answer here for Q1\n",
        "def create_member_id(full_name):\n",
        "\n",
        "    normalized_name = full_name.lower().split()\n",
        "\n",
        "    if not normalized_name:\n",
        "        return \"\"\n",
        "        #In case of empty strings:\n",
        "\n",
        "    last_name = normalized_name[-1]\n",
        "    initials = \"\".join(word[0] for word in normalized_name[:-1]) if len(normalized_name) > 1 else normalized_name[0][0]\n",
        "\n",
        "    return f\"{last_name}_{initials}\""
      ],
      "id": "a059f385",
      "execution_count": 47,
      "outputs": []
    },
    {
      "cell_type": "code",
      "metadata": {
        "colab": {
          "base_uri": "https://localhost:8080/"
        },
        "id": "0aa762d7",
        "outputId": "95226bf8-6069-4ae5-b23c-c4de9f36996a"
      },
      "source": [
        "# Part 2 — Test Scenario (run using your function)\n",
        "names = [\"Sara Amini\", \"Ali\", \"Mary Jane\", \"John Smith\", \"LINA\", \"madonna\", \"sara amini\"]\n",
        "\n",
        "for name in names:\n",
        "    member_id = create_member_id(name)\n",
        "    print(f\"'{name}' -> '{member_id}'\")"
      ],
      "id": "0aa762d7",
      "execution_count": 48,
      "outputs": [
        {
          "output_type": "stream",
          "name": "stdout",
          "text": [
            "'Sara Amini' -> 'amini_s'\n",
            "'Ali' -> 'ali_a'\n",
            "'Mary Jane' -> 'jane_m'\n",
            "'John Smith' -> 'smith_j'\n",
            "'LINA' -> 'lina_l'\n",
            "'madonna' -> 'madonna_m'\n",
            "'sara amini' -> 'amini_s'\n"
          ]
        }
      ]
    },
    {
      "cell_type": "markdown",
      "id": "c1727720",
      "metadata": {
        "id": "c1727720"
      },
      "source": [
        "## Question 2 — Movie Ticket Booth\n",
        "\n",
        "Write a Python program that simulates a movie ticket booth using this price list:\n",
        "\n",
        "```python\n",
        "prices = {\"adult\": 12.5, \"child\": 8, \"senior\": 9.5, \"student\": 10}\n",
        "```\n",
        "\n",
        "**Program Requirements**\n",
        "- Repeatedly ask the user to enter a ticket type or type `done` to finish.\n",
        "- Valid inputs: `adult`, `child`, `senior`, `student`, or `done`.\n",
        "- If the ticket type exists, add its price to a running total and print a confirmation message.\n",
        "- If it doesn’t exist, print `\"Invalid ticket type\"`.\n",
        "- When the user types `done`, stop and show:\n",
        "  - **Subtotal** (sum of valid ticket prices)\n",
        "  - **Tax** = 8% of subtotal\n",
        "  - **Final total** = subtotal + tax\n"
      ]
    },
    {
      "cell_type": "code",
      "metadata": {
        "colab": {
          "base_uri": "https://localhost:8080/"
        },
        "id": "3644aac3",
        "outputId": "04d0efa7-d117-4c1f-e6f5-e1e000dc57c0"
      },
      "source": [
        "# Write your answer here for Q2\n",
        "prices = {\"adult\": 12.5, \"child\": 8, \"senior\": 9.5, \"student\": 10}\n",
        "subtotal = 0\n",
        "\n",
        "while True:\n",
        "    ticket_type = input(\"Enter ticket type (adult, child, senior, student) or 'done' to finish: \").lower()\n",
        "\n",
        "    if ticket_type == \"done\":\n",
        "        break\n",
        "    elif ticket_type in prices:\n",
        "        price = prices[ticket_type]\n",
        "        subtotal += price\n",
        "        print(f\"{ticket_type.capitalize()} ticket added. Current subtotal: ${subtotal:.2f}\")\n",
        "    else:\n",
        "        print(\"Invalid ticket type\")\n",
        "\n",
        "tax_rate = 0.08\n",
        "tax = subtotal * tax_rate\n",
        "final_total = subtotal + tax\n",
        "\n",
        "print(\"\\n--- Summary ---\")\n",
        "print(f\"Subtotal: ${subtotal:.2f}\")\n",
        "print(f\"Tax (8%): ${tax:.2f}\")\n",
        "print(f\"Final total: ${final_total:.2f}\")"
      ],
      "id": "3644aac3",
      "execution_count": 7,
      "outputs": [
        {
          "output_type": "stream",
          "name": "stdout",
          "text": [
            "Enter ticket type (adult, child, senior, student) or 'done' to finish: adult\n",
            "Adult ticket added. Current subtotal: $12.50\n",
            "Enter ticket type (adult, child, senior, student) or 'done' to finish: adult\n",
            "Adult ticket added. Current subtotal: $25.00\n",
            "Enter ticket type (adult, child, senior, student) or 'done' to finish: child\n",
            "Child ticket added. Current subtotal: $33.00\n",
            "Enter ticket type (adult, child, senior, student) or 'done' to finish: senior\n",
            "Senior ticket added. Current subtotal: $42.50\n",
            "Enter ticket type (adult, child, senior, student) or 'done' to finish: child\n",
            "Child ticket added. Current subtotal: $50.50\n",
            "Enter ticket type (adult, child, senior, student) or 'done' to finish: done\n",
            "\n",
            "--- Summary ---\n",
            "Subtotal: $50.50\n",
            "Tax (8%): $4.04\n",
            "Final total: $54.54\n"
          ]
        }
      ]
    },
    {
      "cell_type": "markdown",
      "id": "17b39afe",
      "metadata": {
        "id": "17b39afe"
      },
      "source": [
        "**Part 2 — Example Scenario**\n",
        "When prompted, type the following (each on a new line), then press Enter after each entry:\n",
        "\n",
        "```\n",
        "adult\n",
        "child\n",
        "student\n",
        "done\n",
        "```\n",
        "Your program should complete and display the subtotal, tax, and final total based on these entries.\n"
      ]
    },
    {
      "cell_type": "markdown",
      "id": "28c710b6",
      "metadata": {
        "id": "28c710b6"
      },
      "source": [
        "## Question 3 — Student Grade Analyzer\n",
        "\n",
        "Write a Python function `analyze_grades(grades)` that takes a list of numbers (0–100) and returns three values:\n",
        "1. average grade\n",
        "2. highest grade\n",
        "3. lowest grade\n",
        "\n",
        "**Constraints**\n",
        "- Use a function and return statement(s).\n",
        "- Do not use external libraries.\n"
      ]
    },
    {
      "cell_type": "code",
      "metadata": {
        "id": "f1bed27b"
      },
      "source": [
        "# Write your answer here for Q3\n",
        "def analyze_grades(grades):\n",
        "\n",
        "    if not grades:\n",
        "        return None, None, None\n",
        "        #For empty list Cases\n",
        "    total_grade = sum(grades)\n",
        "    average_grade = total_grade / len(grades)\n",
        "    highest_grade = max(grades)\n",
        "    lowest_grade = min(grades)\n",
        "\n",
        "    return average_grade, highest_grade, lowest_grade"
      ],
      "id": "f1bed27b",
      "execution_count": 40,
      "outputs": []
    },
    {
      "cell_type": "code",
      "execution_count": 41,
      "id": "ad2b0d29",
      "metadata": {
        "id": "ad2b0d29",
        "colab": {
          "base_uri": "https://localhost:8080/"
        },
        "outputId": "bafb29e7-b1cc-4a8e-e975-553de4557106"
      },
      "outputs": [
        {
          "output_type": "stream",
          "name": "stdout",
          "text": [
            "Average: 85.57, Highest: 93, Lowest: 72\n"
          ]
        }
      ],
      "source": [
        "# Part 2 — Test Scenario\n",
        "sample = [88, 92, 79, 93, 85, 90, 72]\n",
        "average_grade, highest_grade, lowest_grade = analyze_grades(sample)\n",
        "print(f\"Average: {average_grade:.2f}, Highest: {highest_grade}, Lowest: {lowest_grade}\")"
      ]
    },
    {
      "cell_type": "markdown",
      "id": "d378f3c3",
      "metadata": {
        "id": "d378f3c3"
      },
      "source": [
        "## Question 4 — PIN Verification\n",
        "Write a Python program that simulates an ATM PIN verification system.\n",
        "\n",
        "**Requirements**\n",
        "- The correct PIN is `4321`.\n",
        "- The user has at most **3 attempts** to enter the correct PIN.\n",
        "- If the PIN is correct: print `Access granted.` and stop.\n",
        "- If all 3 attempts fail: print `Card blocked.`\n",
        "- After each wrong attempt, also print the counter in the form `Wrong (x/3)`.\n"
      ]
    },
    {
      "cell_type": "code",
      "metadata": {
        "colab": {
          "base_uri": "https://localhost:8080/"
        },
        "id": "ada22899",
        "outputId": "b1e7b46f-ae02-4437-bb6b-6eaa702b6da6"
      },
      "source": [
        "# Write your answer here for Q4\n",
        "correct_pin = \"4321\"\n",
        "attempts = 0\n",
        "max_attempts = 3\n",
        "\n",
        "while attempts < max_attempts:\n",
        "    pin_input = input(\"Enter your PIN: \")\n",
        "\n",
        "    if pin_input == correct_pin:\n",
        "        print(\"Access granted.\")\n",
        "        break\n",
        "    else:\n",
        "        attempts += 1\n",
        "        if attempts < max_attempts:\n",
        "            print(f\"Wrong ({attempts}/{max_attempts})\")\n",
        "        else:\n",
        "            print(\"Card blocked.\")"
      ],
      "id": "ada22899",
      "execution_count": 44,
      "outputs": [
        {
          "output_type": "stream",
          "name": "stdout",
          "text": [
            "Enter your PIN: 1111\n",
            "Wrong (1/3)\n",
            "Enter your PIN: 2222\n",
            "Wrong (2/3)\n",
            "Enter your PIN: 4321\n",
            "Access granted.\n"
          ]
        }
      ]
    },
    {
      "cell_type": "markdown",
      "id": "1c61e343",
      "metadata": {
        "id": "1c61e343"
      },
      "source": [
        "**Part 2 — Test Scenario**\n",
        "Run your program and, when prompted, enter these sequences to verify both behaviors:\n",
        "\n",
        "**Scenario A**\n",
        "```\n",
        "1111\n",
        "2222\n",
        "4321\n",
        "```\n",
        "\n",
        "\n"
      ]
    }
  ],
  "metadata": {
    "kernelspec": {
      "display_name": "Python 3",
      "language": "python",
      "name": "python3"
    },
    "language_info": {
      "name": "python",
      "version": "3.x"
    },
    "colab": {
      "provenance": [],
      "include_colab_link": true
    }
  },
  "nbformat": 4,
  "nbformat_minor": 5
}