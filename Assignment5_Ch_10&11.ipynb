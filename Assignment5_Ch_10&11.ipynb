{
  "cells": [
    {
      "cell_type": "markdown",
      "metadata": {
        "id": "view-in-github",
        "colab_type": "text"
      },
      "source": [
        "<a href=\"https://colab.research.google.com/github/gk0434/Gautam_DTSC_Fall2025/blob/main/Assignment5_Ch_10%2611.ipynb\" target=\"_parent\"><img src=\"https://colab.research.google.com/assets/colab-badge.svg\" alt=\"Open In Colab\"/></a>"
      ]
    },
    {
      "cell_type": "markdown",
      "id": "9903d230",
      "metadata": {
        "id": "9903d230"
      },
      "source": [
        "# Assignment5: CRM Cleanup @ **DalaShop**\n",
        "*Files (Ch.10), Exceptions (Ch.10), Unit Tests (Ch.11), and Regular Expressions*  \n",
        ".....\n",
        "\n",
        "**Total: 3 points**  (Two questions, 1.5 pts each)  \n",
        "\n",
        "> This assignment is scenario-based and aligned with Python Crash Course Ch.10 (files & exceptions), Ch.11 (unit testing with `unittest`), and Regular Expressions."
      ]
    },
    {
      "cell_type": "markdown",
      "id": "d6487401",
      "metadata": {
        "id": "d6487401"
      },
      "source": [
        "## Scenario\n",
        "You are a data intern at an online retailer called **DalaShop**.  \n",
        "Sales exported a **raw contacts** file from the CRM. It contains customer names, emails, and phone numbers, but the formatting is messy and some emails are invalid.  \n",
        "Your tasks:\n",
        "\n",
        "1. **Clean** the contacts (Files + Exceptions + Regex).  \n",
        "2. **Write unit tests** to make sure your helper functions work correctly and keep working in the future."
      ]
    },
    {
      "cell_type": "markdown",
      "id": "0bd1712f",
      "metadata": {
        "id": "0bd1712f"
      },
      "source": [
        "## Data file (given by the company): `contacts_raw.txt`\n",
        "Use this exact sample data (you may extend it for your own testing, but do **not** change it when submitting).  \n",
        "Run the next cell once to create the file beside your notebook."
      ]
    },
    {
      "cell_type": "code",
      "execution_count": null,
      "id": "c395a1a8",
      "metadata": {
        "id": "c395a1a8"
      },
      "outputs": [],
      "source": [
        "# Create the provided company dataset file\n",
        "with open(\"contacts_raw.txt\", \"w\", encoding=\"utf-8\") as f:\n",
        "    f.write('Alice Johnson <alice@example.com> , +1 (469) 555-1234\\nBob Roberts <bob[at]example.com> , 972-555-777\\nSara M. , sara@mail.co , 214 555 8888\\n\"Mehdi A.\" <mehdi.ay@example.org> , (469)555-9999\\nDelaram <delaram@example.io>, +1-972-777-2121\\nNima <NIMA@example.io> , 972.777.2121\\nduplicate <Alice@Example.com> , 469 555 1234')\n",
        "print(\"Wrote contacts_raw.txt with sample DalaShop data.\")"
      ]
    },
    {
      "cell_type": "markdown",
      "id": "1b535f73",
      "metadata": {
        "id": "1b535f73"
      },
      "source": [
        "## Q1 (1.5 pts) — CRM cleanup with Files, Exceptions, and Regex\n",
        "Implement `q1_crm_cleanup.py` to:\n",
        "\n",
        "1. **Read** `contacts_raw.txt` using `pathlib` and `with`. If the file is missing, **handle** it gracefully with `try/except FileNotFoundError` (print a friendly message; do not crash).\n",
        "2. **Validate emails** with a simple regex (`r\"[A-Za-z0-9._%+-]+@[A-Za-z0-9.-]+\\.[A-Za-z]{2,}\"`).  \n",
        "   - Trim whitespace with `strip()` before checking.  \n",
        "   - Use **full** matching (not partial).\n",
        "3. **Normalize phone numbers:** remove all non-digits (e.g., with `re.sub(r\"\\D\", \"\", raw)`).  \n",
        "   - If the result has **≥ 10 digits**, keep the **last 10 digits**.  \n",
        "   - Otherwise, return an **empty string** (`\"\"`).\n",
        "4. **Filter rows:** keep **only** rows with a valid email.\n",
        "5. **Deduplicate:** remove duplicates by **email** using **case-insensitive** comparison (e.g., `email.casefold()`). **Keep the first occurrence** and drop later duplicates.\n",
        "6. **Output CSV:** write to `contacts_clean.csv` with **columns exactly** `name,email,phone` (UTF-8).  \n",
        "7. **Preserve input order:** the order of rows in `contacts_clean.csv` must match the **first appearance** order from the input file. **Do not sort** the rows.\n",
        "\n",
        "**Grading rubric (1.5 pts):**\n",
        "- (0.4) File read/write via `pathlib` + graceful `FileNotFoundError` handling  \n",
        "- (0.5) Correct email regex validation + filtering  \n",
        "- (0.4) Phone normalization + case-insensitive de-dup (keep first)  \n",
        "- (0.2) Clean code, clear names, minimal docstrings/comments"
      ]
    },
    {
      "cell_type": "code",
      "source": [
        "import io, sys, unittest\n",
        "from pathlib import Path\n",
        "\n",
        "# --- Write q1_crm_cleanup.py ---\n",
        "crm_code = r\"\"\"\n",
        "from pathlib import Path\n",
        "import csv\n",
        "import re\n",
        "from typing import List, Dict, Iterable\n",
        "\n",
        "EMAIL_RE = re.compile(r\"[A-Za-z0-9._%+-]+@[A-Za-z0-9.-]+\\.[A-Za-z]{2,}$\")\n",
        "\n",
        "def is_valid_email(raw: str) -> bool:\n",
        "    if not raw:\n",
        "        return False\n",
        "    raw = raw.strip()\n",
        "    return EMAIL_RE.fullmatch(raw) is not None\n",
        "\n",
        "def normalize_phone(raw: str) -> str:\n",
        "    if raw is None:\n",
        "        return \"\"\n",
        "    digits = re.sub(r\"\\D\", \"\", raw)\n",
        "    if len(digits) >= 10:\n",
        "        return digits[-10:]\n",
        "    return \"\"\n",
        "\n",
        "def parse_contact_line(line: str) -> Dict[str, str]:\n",
        "    name = \"\"\n",
        "    email = \"\"\n",
        "    phone = \"\"\n",
        "    line = line.strip()\n",
        "    if \"<\" in line and \">\" in line:\n",
        "        parts = [p.strip() for p in line.split(\",\")]\n",
        "        left = parts[0]\n",
        "        phone = parts[1].strip() if len(parts) > 1 else \"\"\n",
        "        m = re.search(r\"<([^>]+)>\", left)\n",
        "        if m:\n",
        "            email = m.group(1).strip()\n",
        "        name = left.split(\"<\", 1)[0].strip().strip('\"').strip(\"'\")\n",
        "    else:\n",
        "        parts = [p.strip() for p in line.split(\",\")]\n",
        "        if len(parts) >= 1:\n",
        "            name = parts[0]\n",
        "        if len(parts) >= 2:\n",
        "            email = parts[1]\n",
        "        if len(parts) >= 3:\n",
        "            phone = parts[2]\n",
        "    phone = normalize_phone(phone)\n",
        "    return {\"name\": name, \"email\": email.strip(), \"phone\": phone}\n",
        "\n",
        "def dedupe_by_email_casefold(rows: Iterable[Dict[str, str]]) -> List[Dict[str, str]]:\n",
        "    seen = set()\n",
        "    deduped = []\n",
        "    for row in rows:\n",
        "        key = row[\"email\"].casefold()\n",
        "        if key not in seen:\n",
        "            seen.add(key)\n",
        "            deduped.append(row)\n",
        "    return deduped\n",
        "\n",
        "def load_raw_contacts(path: Path) -> List[str]:\n",
        "    try:\n",
        "        with path.open(\"r\", encoding=\"utf-8\") as f:\n",
        "            return f.readlines()\n",
        "    except FileNotFoundError:\n",
        "        print(f\"[INFO] File not found: {path!s}. Please make sure contacts_raw.txt exists.\")\n",
        "        return []\n",
        "\n",
        "def clean_contacts(lines: List[str]) -> List[Dict[str, str]]:\n",
        "    parsed = []\n",
        "    for line in lines:\n",
        "        if not line.strip():\n",
        "            continue\n",
        "        row = parse_contact_line(line)\n",
        "        if is_valid_email(row[\"email\"]):\n",
        "            parsed.append(row)\n",
        "    return dedupe_by_email_casefold(parsed)\n",
        "\n",
        "def write_clean_csv(rows: List[Dict[str, str]], out_path: Path) -> None:\n",
        "    with out_path.open(\"w\", encoding=\"utf-8\", newline=\"\") as f:\n",
        "        writer = csv.DictWriter(f, fieldnames=[\"name\", \"email\", \"phone\"])\n",
        "        writer.writeheader()\n",
        "        writer.writerows(rows)\n",
        "\n",
        "def main() -> None:\n",
        "    raw_path = Path(\"contacts_raw.txt\")\n",
        "    out_path = Path(\"contacts_clean.csv\")\n",
        "    lines = load_raw_contacts(raw_path)\n",
        "    if not lines:\n",
        "        return\n",
        "    cleaned = clean_contacts(lines)\n",
        "    write_clean_csv(cleaned, out_path)\n",
        "    print(f\"[OK] Wrote {len(cleaned)} cleaned contacts to {out_path!s}.\")\n",
        "\n",
        "if __name__ == \"__main__\":\n",
        "    main()\n",
        "\"\"\"\n",
        "with open(\"q1_crm_cleanup.py\", \"w\", encoding=\"utf-8\") as f:\n",
        "    f.write(crm_code)"
      ],
      "metadata": {
        "id": "81lSWFrU_gc7"
      },
      "id": "81lSWFrU_gc7",
      "execution_count": 10,
      "outputs": []
    },
    {
      "cell_type": "markdown",
      "id": "258c5b04",
      "metadata": {
        "id": "258c5b04"
      },
      "source": [
        "## Q2 (1.5 pts) — Unit testing with `unittest`\n",
        "Create tests in `test_crm_cleanup.py` that cover at least:\n",
        "\n",
        "1. **Email validation**: valid/invalid variations.  \n",
        "2. **Phone normalization**: parentheses, dashes, spaces, country code; too-short cases.  \n",
        "3. **Parsing**: from a small multi-line string (not from a file), assert the exact structured rows (name/email/phone).  \n",
        "4. **De-duplication**: demonstrate that a case-variant duplicate email is dropped (first occurrence kept).\n",
        "\n",
        "\n"
      ]
    },
    {
      "cell_type": "code",
      "source": [
        "# --- Write test_crm_cleanup.py ---\n",
        "test_code = r\"\"\"\n",
        "import unittest\n",
        "from q1_crm_cleanup import (\n",
        "    is_valid_email,\n",
        "    normalize_phone,\n",
        "    parse_contact_line,\n",
        "    clean_contacts,\n",
        "    dedupe_by_email_casefold,\n",
        ")\n",
        "\n",
        "class TestCRMCleanup(unittest.TestCase):\n",
        "    def test_valid_emails(self):\n",
        "        self.assertTrue(is_valid_email(\"alice@example.com\"))\n",
        "        self.assertTrue(is_valid_email(\"user.name+tag@sub.domain.co\"))\n",
        "        self.assertTrue(is_valid_email(\"  spaced@example.org  \"))\n",
        "\n",
        "    def test_invalid_emails(self):\n",
        "        self.assertFalse(is_valid_email(\"bob[at]example.com\"))\n",
        "        self.assertFalse(is_valid_email(\"no-at-symbol.com\"))\n",
        "        self.assertFalse(is_valid_email(\"missing-tld@example\"))\n",
        "        self.assertFalse(is_valid_email(\"\"))\n",
        "\n",
        "    def test_phone_normalization(self):\n",
        "        self.assertEqual(normalize_phone(\"+1 (469) 555-1234\"), \"4695551234\")\n",
        "        self.assertEqual(normalize_phone(\"214 555 8888\"), \"2145558888\")\n",
        "        self.assertEqual(normalize_phone(\"(469)555-9999\"), \"4695559999\")\n",
        "        self.assertEqual(normalize_phone(\"972.777.2121\"), \"9727772121\")\n",
        "\n",
        "    def test_phone_too_short(self):\n",
        "        self.assertEqual(normalize_phone(\"555-123\"), \"\")\n",
        "\n",
        "    def test_phone_long(self):\n",
        "        self.assertEqual(normalize_phone(\"+1-972-777-2121\"), \"9727772121\")\n",
        "\n",
        "    def test_parsing_multiline_string(self):\n",
        "        data = '''Alice Johnson <alice@example.com> , +1 (469) 555-1234\n",
        "Sara M. , sara@mail.co , 214 555 8888\n",
        "\"Mehdi A.\" <mehdi.ay@example.org> , (469)555-9999\n",
        "'''\n",
        "        lines = data.splitlines()\n",
        "        cleaned = clean_contacts(lines)\n",
        "        self.assertEqual(len(cleaned), 3)\n",
        "        self.assertEqual(cleaned[0][\"email\"], \"alice@example.com\")\n",
        "        self.assertEqual(cleaned[0][\"phone\"], \"4695551234\")\n",
        "        self.assertEqual(cleaned[2][\"name\"], \"Mehdi A.\")\n",
        "\n",
        "    def test_deduplication_casefold(self):\n",
        "        rows = [\n",
        "            {\"name\": \"Alice\", \"email\": \"alice@example.com\", \"phone\": \"1\"},\n",
        "            {\"name\": \"duplicate\", \"email\": \"Alice@Example.com\", \"phone\": \"2\"},\n",
        "            {\"name\": \"Bob\", \"email\": \"bob@example.com\", \"phone\": \"3\"},\n",
        "        ]\n",
        "        deduped = dedupe_by_email_casefold(rows)\n",
        "        self.assertEqual(len(deduped), 2)\n",
        "        self.assertEqual(deduped[0][\"name\"], \"Alice\")\n",
        "        self.assertEqual(deduped[1][\"name\"], \"Bob\")\n",
        "\n",
        "if __name__ == \"__main__\":\n",
        "    unittest.main()\n",
        "\"\"\"\n",
        "with open(\"test_crm_cleanup.py\", \"w\", encoding=\"utf-8\") as f:\n",
        "    f.write(test_code)\n",
        "\n",
        "\n",
        "#Run all unit test\n",
        "!python3 -m unittest -v test_crm_cleanup.py"
      ],
      "metadata": {
        "colab": {
          "base_uri": "https://localhost:8080/"
        },
        "id": "I1WDtyeC_k1_",
        "outputId": "49d9d1ce-7def-4f16-b9b0-7ca803c6539a"
      },
      "id": "I1WDtyeC_k1_",
      "execution_count": 12,
      "outputs": [
        {
          "output_type": "stream",
          "name": "stdout",
          "text": [
            "test_deduplication_casefold (test_crm_cleanup.TestCRMCleanup.test_deduplication_casefold) ... ok\n",
            "test_invalid_emails (test_crm_cleanup.TestCRMCleanup.test_invalid_emails) ... ok\n",
            "test_parsing_multiline_string (test_crm_cleanup.TestCRMCleanup.test_parsing_multiline_string) ... ok\n",
            "test_phone_long (test_crm_cleanup.TestCRMCleanup.test_phone_long) ... ok\n",
            "test_phone_normalization (test_crm_cleanup.TestCRMCleanup.test_phone_normalization) ... ok\n",
            "test_phone_too_short (test_crm_cleanup.TestCRMCleanup.test_phone_too_short) ... ok\n",
            "test_valid_emails (test_crm_cleanup.TestCRMCleanup.test_valid_emails) ... ok\n",
            "\n",
            "----------------------------------------------------------------------\n",
            "Ran 7 tests in 0.001s\n",
            "\n",
            "OK\n"
          ]
        }
      ]
    },
    {
      "cell_type": "markdown",
      "id": "f38af38b",
      "metadata": {
        "id": "f38af38b"
      },
      "source": [
        "## Grading rubric (total 3 pts)\n",
        "- **Q1 (1.5 pts)**  \n",
        "  - (0.4) File I/O with `pathlib` + graceful `FileNotFoundError` handling  \n",
        "  - (0.5) Email validation (regex + strip + full match) and filtering  \n",
        "  - (0.4) Phone normalization and **case-insensitive** de-duplication (keep first)  \n",
        "  - (0.2) Code clarity (names, minimal docstrings/comments)\n",
        "- **Q2 (1.5 pts)**  \n",
        "  - (0.6) Meaningful coverage for email/phone functions (valid & invalid)  \n",
        "  - (0.6) Parsing & de-dup tests that assert exact expected rows  \n",
        "  - (0.3) Standard `unittest` structure and readable test names\n"
      ]
    }
  ],
  "metadata": {
    "colab": {
      "provenance": [],
      "include_colab_link": true
    },
    "language_info": {
      "name": "python"
    },
    "kernelspec": {
      "name": "python3",
      "display_name": "Python 3"
    }
  },
  "nbformat": 4,
  "nbformat_minor": 5
}